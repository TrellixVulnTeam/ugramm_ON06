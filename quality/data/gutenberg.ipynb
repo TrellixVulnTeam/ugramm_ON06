{
 "cells": [
  {
   "cell_type": "code",
   "execution_count": 1,
   "id": "324e7ca2",
   "metadata": {},
   "outputs": [
    {
     "name": "stdout",
     "output_type": "stream",
     "text": [
      "--2022-04-23 10:14:00--  https://www.openslr.org/resources/12/original-books.tar.gz\n",
      "Resolving www.openslr.org (www.openslr.org)... 64:ff9b::2e65:9e40\n",
      "Connecting to www.openslr.org (www.openslr.org)|64:ff9b::2e65:9e40|:443... connected.\n",
      "HTTP request sent, awaiting response... 302 Found\n",
      "Location: http://openslr.elda.org/resources/12/original-books.tar.gz [following]\n",
      "--2022-04-23 10:14:01--  http://openslr.elda.org/resources/12/original-books.tar.gz\n",
      "Resolving openslr.elda.org (openslr.elda.org)... 2001:41d0:203:ad8a::\n",
      "Connecting to openslr.elda.org (openslr.elda.org)|2001:41d0:203:ad8a::|:80... connected.\n",
      "HTTP request sent, awaiting response... 200 OK\n",
      "Length: 297279345 (284M) [application/x-gzip]\n",
      "Saving to: ‘original-books.tar.gz’\n",
      "\n",
      "original-books.tar. 100%[===================>] 283.51M  54.8MB/s    in 5.6s    \n",
      "\n",
      "2022-04-23 10:14:06 (51.1 MB/s) - ‘original-books.tar.gz’ saved [297279345/297279345]\n",
      "\n"
     ]
    }
   ],
   "source": [
    "!wget -c https://www.openslr.org/resources/12/original-books.tar.gz\n",
    "!test -e LibriSpeech || tar -xf original-books.tar.gz"
   ]
  },
  {
   "cell_type": "code",
   "execution_count": 2,
   "id": "02a20530",
   "metadata": {},
   "outputs": [
    {
     "name": "stderr",
     "output_type": "stream",
     "text": [
      "[nltk_data] Downloading package punkt to /root/nltk_data...\n",
      "[nltk_data]   Unzipping tokenizers/punkt.zip.\n"
     ]
    },
    {
     "data": {
      "text/plain": [
       "True"
      ]
     },
     "execution_count": 2,
     "metadata": {},
     "output_type": "execute_result"
    }
   ],
   "source": [
    "import os\n",
    "import nltk\n",
    "from nltk.tokenize import sent_tokenize\n",
    "import pandas as pd\n",
    "\n",
    "nltk.download('punkt')"
   ]
  },
  {
   "cell_type": "code",
   "execution_count": 3,
   "id": "712aca20",
   "metadata": {},
   "outputs": [],
   "source": [
    "MAX_LEN = 256*3  # 256 tokens of 3 char each\n",
    "MAX_FILE = 10000000"
   ]
  },
  {
   "cell_type": "code",
   "execution_count": 4,
   "id": "fbd3b796",
   "metadata": {},
   "outputs": [],
   "source": [
    "def get_sentences(text):\n",
    "    sentences = []\n",
    "    for paragraph in text.split(\"\\n\\n\"):\n",
    "        paragraph = paragraph.replace(\"\\n\", \" \").replace(\"  \", \" \").replace(\"  \", \" \").replace(\"  \", \" \").strip()\n",
    "        if paragraph:\n",
    "            if len(paragraph) < MAX_LEN:\n",
    "                sentences.append(paragraph)\n",
    "            else:\n",
    "                sentences.extend(sent_tokenize(paragraph))\n",
    "    return sentences\n",
    "\n",
    "def get_sentences_from_path(file_path):\n",
    "    with open(file_path, \"r\") as f:\n",
    "        return get_sentences(f.read(MAX_FILE))"
   ]
  },
  {
   "cell_type": "code",
   "execution_count": 5,
   "id": "d2c45583",
   "metadata": {},
   "outputs": [
    {
     "data": {
      "text/plain": [
       "4107551"
      ]
     },
     "execution_count": 5,
     "metadata": {},
     "output_type": "execute_result"
    }
   ],
   "source": [
    "all_sentences = []\n",
    "for root, dirs, files in os.walk(\"LibriSpeech\"):\n",
    "    path = root.split(os.sep)\n",
    "    for file in files:\n",
    "        if file.endswith(\".txt\"):\n",
    "            try:\n",
    "                all_sentences.extend(get_sentences_from_path(root + \"/\" + file))\n",
    "            except UnicodeDecodeError:\n",
    "                pass\n",
    "len(all_sentences)"
   ]
  },
  {
   "cell_type": "code",
   "execution_count": 6,
   "id": "bf668c33",
   "metadata": {},
   "outputs": [],
   "source": [
    "df = pd.DataFrame(all_sentences, columns=[\"text\"])\n",
    "df.to_csv(\"gutenberg.tsv\", sep=\"\\t\", index=None, header=None)"
   ]
  }
 ],
 "metadata": {
  "kernelspec": {
   "display_name": "Python 3 (ipykernel)",
   "language": "python",
   "name": "python3"
  },
  "language_info": {
   "codemirror_mode": {
    "name": "ipython",
    "version": 3
   },
   "file_extension": ".py",
   "mimetype": "text/x-python",
   "name": "python",
   "nbconvert_exporter": "python",
   "pygments_lexer": "ipython3",
   "version": "3.8.10"
  }
 },
 "nbformat": 4,
 "nbformat_minor": 5
}
