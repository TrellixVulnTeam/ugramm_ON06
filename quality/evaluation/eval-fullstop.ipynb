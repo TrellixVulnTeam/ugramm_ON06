{
 "cells": [
  {
   "cell_type": "code",
   "execution_count": 1,
   "id": "3d1a4f1e",
   "metadata": {},
   "outputs": [],
   "source": [
    "import os\n",
    "os.environ[\"CUDA_VISIBLE_DEVICES\"] = \"-1\""
   ]
  },
  {
   "cell_type": "code",
   "execution_count": 2,
   "id": "91fe4358",
   "metadata": {},
   "outputs": [],
   "source": [
    "import pandas as pd\n",
    "import mmh3\n",
    "import re\n",
    "from tqdm import tqdm\n",
    "\n",
    "MAX_LEN_CHARS = 256*3"
   ]
  },
  {
   "cell_type": "code",
   "execution_count": 3,
   "id": "f0f71159",
   "metadata": {},
   "outputs": [],
   "source": [
    "from datasets import load_metric"
   ]
  },
  {
   "cell_type": "code",
   "execution_count": 4,
   "id": "d8d8af42",
   "metadata": {},
   "outputs": [
    {
     "name": "stderr",
     "output_type": "stream",
     "text": [
      "/opt/conda/lib/python3.8/site-packages/transformers/pipelines/token_classification.py:135: UserWarning: `grouped_entities` is deprecated and will be removed in version v5.0.0, defaulted to `aggregation_strategy=\"AggregationStrategy.NONE\"` instead.\n",
      "  warnings.warn(\n"
     ]
    }
   ],
   "source": [
    "from deepmultilingualpunctuation import PunctuationModel\n",
    "\n",
    "model = PunctuationModel(model=\"oliverguhr/fullstop-punctuation-multilang-large\")"
   ]
  },
  {
   "cell_type": "code",
   "execution_count": 5,
   "id": "86437f91",
   "metadata": {},
   "outputs": [
    {
     "data": {
      "text/plain": [
       "1582094"
      ]
     },
     "execution_count": 5,
     "metadata": {},
     "output_type": "execute_result"
    }
   ],
   "source": [
    "df_t = pd.read_csv(\"data/eng_sentences.tsv\", sep=\"\\t\", names=[\"id\", \"lang\", \"text\"])\n",
    "df_t = df_t[df_t[\"text\"].str.len() < MAX_LEN_CHARS]\n",
    "\n",
    "# shuffle\n",
    "df_t[\"id\"] = df_t[\"text\"].map(lambda x: mmh3.hash64(x.encode('utf8'))[0])\n",
    "df_t[\"text\"] = df_t[\"text\"].map(lambda x: re.sub(r'[^\\x00-\\x7F]+', '', x))\n",
    "df_t[\"text\"] = df_t[\"text\"].map(lambda x: re.sub(' +', ' ', x).strip())\n",
    "df_t = df_t.sort_values(\"id\")\n",
    "len(df_t)"
   ]
  },
  {
   "cell_type": "code",
   "execution_count": 6,
   "id": "5f4f4853",
   "metadata": {},
   "outputs": [
    {
     "data": {
      "text/plain": [
       "66939"
      ]
     },
     "execution_count": 6,
     "metadata": {},
     "output_type": "execute_result"
    }
   ],
   "source": [
    "df_o = pd.read_csv(\"data/oss.tsv\", sep=\"\\t\", names=[\"text\"])\n",
    "df_o = df_o[df_o[\"text\"].str.len() < MAX_LEN_CHARS]\n",
    "\n",
    "# shuffle\n",
    "df_o[\"id\"] = df_o[\"text\"].map(lambda x: mmh3.hash64(x.encode('utf8'))[0])\n",
    "df_o[\"text\"] = df_o[\"text\"].map(lambda x: re.sub(r'[^\\x00-\\x7F]+', '', x))\n",
    "df_o[\"text\"] = df_o[\"text\"].map(lambda x: re.sub(' +', ' ', x).strip())\n",
    "df_o = df_o.sort_values(\"id\")\n",
    "len(df_o)"
   ]
  },
  {
   "cell_type": "code",
   "execution_count": 7,
   "id": "0bd145ab",
   "metadata": {},
   "outputs": [
    {
     "data": {
      "text/plain": [
       "4102516"
      ]
     },
     "execution_count": 7,
     "metadata": {},
     "output_type": "execute_result"
    }
   ],
   "source": [
    "df_g = pd.read_csv(\"data/gutenberg.tsv\", sep=\"\\t\", names=[\"text\"])\n",
    "df_g = df_g[df_g[\"text\"].str.len() < MAX_LEN_CHARS]\n",
    "\n",
    "# shuffle\n",
    "df_g[\"id\"] = df_g[\"text\"].map(lambda x: mmh3.hash64(x.encode('utf8'))[0])\n",
    "df_g[\"text\"] = df_g[\"text\"].map(lambda x: re.sub(r'[^\\x00-\\x7F]+', '', x))\n",
    "df_g[\"text\"] = df_g[\"text\"].map(lambda x: re.sub(' +', ' ', x).strip())\n",
    "df_g = df_g.sort_values(\"id\")\n",
    "len(df_g)"
   ]
  },
  {
   "cell_type": "code",
   "execution_count": 8,
   "id": "ea0a6094",
   "metadata": {},
   "outputs": [
    {
     "data": {
      "text/plain": [
       "10000"
      ]
     },
     "execution_count": 8,
     "metadata": {},
     "output_type": "execute_result"
    }
   ],
   "source": [
    "test_size = 10000\n",
    "texts_t = list(df_t[\"text\"])[-test_size:]\n",
    "texts_t = [text for text in texts_t if text.isascii()]\n",
    "len(texts_t)"
   ]
  },
  {
   "cell_type": "code",
   "execution_count": 9,
   "id": "0095b97d",
   "metadata": {},
   "outputs": [
    {
     "data": {
      "text/plain": [
       "10000"
      ]
     },
     "execution_count": 9,
     "metadata": {},
     "output_type": "execute_result"
    }
   ],
   "source": [
    "test_size = 10000\n",
    "texts_o = list(df_o[\"text\"])[-test_size:]\n",
    "texts_o = [text for text in texts_o if text.isascii()]\n",
    "len(texts_o)"
   ]
  },
  {
   "cell_type": "code",
   "execution_count": 10,
   "id": "a06749d8",
   "metadata": {},
   "outputs": [
    {
     "data": {
      "text/plain": [
       "10000"
      ]
     },
     "execution_count": 10,
     "metadata": {},
     "output_type": "execute_result"
    }
   ],
   "source": [
    "test_size = 10000\n",
    "texts_g = list(df_g[\"text\"])[-test_size:]\n",
    "texts_g = [text for text in texts_g if text.isascii()]\n",
    "len(texts_g)"
   ]
  },
  {
   "cell_type": "code",
   "execution_count": 11,
   "id": "e06fa941",
   "metadata": {},
   "outputs": [
    {
     "data": {
      "text/plain": [
       "\"Alice didn't see the dog.\""
      ]
     },
     "execution_count": 11,
     "metadata": {},
     "output_type": "execute_result"
    }
   ],
   "source": [
    "texts_t[1]"
   ]
  },
  {
   "cell_type": "code",
   "execution_count": 12,
   "id": "9b053a2f",
   "metadata": {},
   "outputs": [
    {
     "data": {
      "text/plain": [
       "\"Since the JavaScript support doesn't understand ES7 constructs, features like IntelliSense might not be fully accurate.\""
      ]
     },
     "execution_count": 12,
     "metadata": {},
     "output_type": "execute_result"
    }
   ],
   "source": [
    "texts_o[1]"
   ]
  },
  {
   "cell_type": "code",
   "execution_count": 13,
   "id": "c0f77aa9",
   "metadata": {},
   "outputs": [
    {
     "data": {
      "text/plain": [
       "'\"I don\\'t fear him, anyway he comes,\" replied Will Banion. \"I don\\'t like it, but all of this was forced on me.\"'"
      ]
     },
     "execution_count": 13,
     "metadata": {},
     "output_type": "execute_result"
    }
   ],
   "source": [
    "texts_g[1]"
   ]
  },
  {
   "cell_type": "code",
   "execution_count": 14,
   "id": "1d203538",
   "metadata": {},
   "outputs": [],
   "source": [
    "texts = texts_t + texts_o + texts_g"
   ]
  },
  {
   "cell_type": "code",
   "execution_count": 15,
   "id": "d095105f",
   "metadata": {},
   "outputs": [
    {
     "name": "stdout",
     "output_type": "stream",
     "text": [
      "[['Since', '0', 0.9999497], ['the', '0', 0.9999912], ['JavaScript', '0', 0.9999894], ['support', '0', 0.999967], [\"doesn't\", '0', 0.99999106], ['understand', '0', 0.9999101], ['ES7', '0', 0.9999515], ['constructs', ',', 0.99361897], ['features', '0', 0.9998851], ['like', '0', 0.999982], ['IntelliSense', '0', 0.99992466], ['might', '0', 0.9999914], ['not', '0', 0.99999213], ['be', '0', 0.99974865], ['fully', '0', 0.99999154], ['accurate', '.', 0.99954885]]\n"
     ]
    }
   ],
   "source": [
    "clean_text = model.preprocess(texts_o[1])\n",
    "labled_words = model.predict(clean_text)\n",
    "print(labled_words)"
   ]
  },
  {
   "cell_type": "code",
   "execution_count": 16,
   "id": "3b387bc3",
   "metadata": {},
   "outputs": [],
   "source": [
    "metric = load_metric(\"seqeval\")"
   ]
  },
  {
   "cell_type": "code",
   "execution_count": 35,
   "id": "156fffcf",
   "metadata": {},
   "outputs": [],
   "source": [
    "def clean_punctuation(s):\n",
    "    return s.replace(\",\", \"\").replace(\".\", \"\").replace(\"!\", \"\").replace(\"?\", \"\").replace(\":\", \"\")"
   ]
  },
  {
   "cell_type": "code",
   "execution_count": 47,
   "id": "bed0f9ce",
   "metadata": {},
   "outputs": [
    {
     "name": "stderr",
     "output_type": "stream",
     "text": [
      "100%|███████████████████████████████████████████████████████████████████████████████████████████████████████████████████████████████████████████████████████████████████████████████████████████████████████████████████| 14095/14095 [44:38<00:00,  5.26it/s]\n"
     ]
    }
   ],
   "source": [
    "texts_without_punctuation = [\n",
    "    model.preprocess(text) for text in texts\n",
    "]\n",
    "preds = []\n",
    "for clean_text in tqdm(texts_without_punctuation):\n",
    "    if clean_text:\n",
    "        preds.append(model.predict(clean_text))\n",
    "    else:\n",
    "        preds.append([])"
   ]
  },
  {
   "cell_type": "code",
   "execution_count": 48,
   "id": "b38a8b8e",
   "metadata": {},
   "outputs": [],
   "source": [
    "predictions = [\n",
    "    [\"B-COMMA\" if \",\" == token_pred[1] else \"O\" for token_pred in pred]\n",
    "    for pred in preds\n",
    "]"
   ]
  },
  {
   "cell_type": "code",
   "execution_count": 49,
   "id": "5f0480ea",
   "metadata": {},
   "outputs": [],
   "source": [
    "labels = [\n",
    "    [\"B-COMMA\" if \",\" in token else \"O\" for token in text.split(\" \") if token == \"\" or clean_punctuation(token)]\n",
    "    for text in texts\n",
    "]"
   ]
  },
  {
   "cell_type": "code",
   "execution_count": 54,
   "id": "6bbbbdb7",
   "metadata": {},
   "outputs": [],
   "source": [
    "# Quickfix for different tokens count\n",
    "predictions[15905] = ['O']\n",
    "predictions[23594] = ['O', 'O', 'O', 'O']"
   ]
  },
  {
   "cell_type": "code",
   "execution_count": 55,
   "id": "c3d59d58",
   "metadata": {},
   "outputs": [
    {
     "data": {
      "text/plain": [
       "{'COMMA': {'precision': 0.720698444097843,\n",
       "  'recall': 0.5900950007786949,\n",
       "  'f1': 0.6488902589395807,\n",
       "  'number': 32105},\n",
       " 'overall_precision': 0.720698444097843,\n",
       " 'overall_recall': 0.5900950007786949,\n",
       " 'overall_f1': 0.6488902589395807,\n",
       " 'overall_accuracy': 0.9622585936162497}"
      ]
     },
     "execution_count": 55,
     "metadata": {},
     "output_type": "execute_result"
    }
   ],
   "source": [
    "results = metric.compute(predictions=predictions, references=labels)\n",
    "results"
   ]
  },
  {
   "cell_type": "code",
   "execution_count": 56,
   "id": "873409e3",
   "metadata": {},
   "outputs": [
    {
     "data": {
      "text/plain": [
       "{'COMMA': {'precision': 0.7761324041811847,\n",
       "  'recall': 0.7388059701492538,\n",
       "  'f1': 0.7570093457943925,\n",
       "  'number': 1206},\n",
       " 'overall_precision': 0.7761324041811847,\n",
       " 'overall_recall': 0.7388059701492538,\n",
       " 'overall_f1': 0.7570093457943925,\n",
       " 'overall_accuracy': 0.9925531499394618}"
      ]
     },
     "execution_count": 56,
     "metadata": {},
     "output_type": "execute_result"
    }
   ],
   "source": [
    "# tatoeba\n",
    "results = metric.compute(predictions=predictions[0:10000], references=labels[0:10000])\n",
    "results"
   ]
  },
  {
   "cell_type": "code",
   "execution_count": 57,
   "id": "5b590326",
   "metadata": {},
   "outputs": [
    {
     "data": {
      "text/plain": [
       "{'COMMA': {'precision': 0.7812441621520643,\n",
       "  'recall': 0.6744073536526367,\n",
       "  'f1': 0.7239051410766835,\n",
       "  'number': 6201},\n",
       " 'overall_precision': 0.7812441621520643,\n",
       " 'overall_recall': 0.6744073536526367,\n",
       " 'overall_f1': 0.7239051410766835,\n",
       " 'overall_accuracy': 0.9794956838093034}"
      ]
     },
     "execution_count": 57,
     "metadata": {},
     "output_type": "execute_result"
    }
   ],
   "source": [
    "# oss\n",
    "results = metric.compute(predictions=predictions[10000:20000], references=labels[10000:20000])\n",
    "results"
   ]
  },
  {
   "cell_type": "code",
   "execution_count": 58,
   "id": "9c3ddc63",
   "metadata": {},
   "outputs": [
    {
     "data": {
      "text/plain": [
       "{'COMMA': {'precision': 0.701101789143839,\n",
       "  'recall': 0.5616649121386347,\n",
       "  'f1': 0.6236849204208254,\n",
       "  'number': 24698},\n",
       " 'overall_precision': 0.701101789143839,\n",
       " 'overall_recall': 0.5616649121386347,\n",
       " 'overall_f1': 0.6236849204208254,\n",
       " 'overall_accuracy': 0.946145060884392}"
      ]
     },
     "execution_count": 58,
     "metadata": {},
     "output_type": "execute_result"
    }
   ],
   "source": [
    "# gutenberg\n",
    "results = metric.compute(predictions=predictions[20000:30000], references=labels[20000:30000])\n",
    "results"
   ]
  }
 ],
 "metadata": {
  "kernelspec": {
   "display_name": "Python 3 (ipykernel)",
   "language": "python",
   "name": "python3"
  },
  "language_info": {
   "codemirror_mode": {
    "name": "ipython",
    "version": 3
   },
   "file_extension": ".py",
   "mimetype": "text/x-python",
   "name": "python",
   "nbconvert_exporter": "python",
   "pygments_lexer": "ipython3",
   "version": "3.8.12"
  }
 },
 "nbformat": 4,
 "nbformat_minor": 5
}