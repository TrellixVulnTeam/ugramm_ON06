{
 "cells": [
  {
   "cell_type": "code",
   "execution_count": 1,
   "id": "3d1a4f1e",
   "metadata": {},
   "outputs": [],
   "source": [
    "import os\n",
    "os.environ[\"CUDA_VISIBLE_DEVICES\"] = \"-1\""
   ]
  },
  {
   "cell_type": "code",
   "execution_count": 2,
   "id": "af70a056",
   "metadata": {},
   "outputs": [],
   "source": [
    "import pandas as pd\n",
    "import mmh3\n",
    "import re\n",
    "from tqdm import tqdm\n",
    "from datasets import load_metric\n",
    "import torch\n",
    "from transformers import AutoTokenizer, AutoModelForTokenClassification, TrainingArguments, Trainer, DataCollatorForTokenClassification\n",
    "\n",
    "MAX_LEN_CHARS = 256*3"
   ]
  },
  {
   "cell_type": "code",
   "execution_count": 3,
   "id": "86437f91",
   "metadata": {},
   "outputs": [
    {
     "data": {
      "text/plain": [
       "1582094"
      ]
     },
     "execution_count": 3,
     "metadata": {},
     "output_type": "execute_result"
    }
   ],
   "source": [
    "df_t = pd.read_csv(\"data/eng_sentences.tsv\", sep=\"\\t\", names=[\"id\", \"lang\", \"text\"])\n",
    "df_t = df_t[df_t[\"text\"].str.len() < MAX_LEN_CHARS]\n",
    "\n",
    "# shuffle\n",
    "df_t[\"id\"] = df_t[\"text\"].map(lambda x: mmh3.hash64(x.encode('utf8'))[0])\n",
    "df_t[\"text\"] = df_t[\"text\"].map(lambda x: re.sub(r'[^\\x00-\\x7F]+', '', x))\n",
    "df_t[\"text\"] = df_t[\"text\"].map(lambda x: re.sub(' +', ' ', x).strip())\n",
    "df_t = df_t.sort_values(\"id\")\n",
    "len(df_t)"
   ]
  },
  {
   "cell_type": "code",
   "execution_count": 4,
   "id": "5f4f4853",
   "metadata": {},
   "outputs": [
    {
     "data": {
      "text/plain": [
       "66939"
      ]
     },
     "execution_count": 4,
     "metadata": {},
     "output_type": "execute_result"
    }
   ],
   "source": [
    "df_o = pd.read_csv(\"data/oss.tsv\", sep=\"\\t\", names=[\"text\"])\n",
    "df_o = df_o[df_o[\"text\"].str.len() < MAX_LEN_CHARS]\n",
    "\n",
    "# shuffle\n",
    "df_o[\"id\"] = df_o[\"text\"].map(lambda x: mmh3.hash64(x.encode('utf8'))[0])\n",
    "df_o[\"text\"] = df_o[\"text\"].map(lambda x: re.sub(r'[^\\x00-\\x7F]+', '', x))\n",
    "df_o[\"text\"] = df_o[\"text\"].map(lambda x: re.sub(' +', ' ', x).strip())\n",
    "df_o = df_o.sort_values(\"id\")\n",
    "len(df_o)"
   ]
  },
  {
   "cell_type": "code",
   "execution_count": 5,
   "id": "0bd145ab",
   "metadata": {},
   "outputs": [
    {
     "data": {
      "text/plain": [
       "4102516"
      ]
     },
     "execution_count": 5,
     "metadata": {},
     "output_type": "execute_result"
    }
   ],
   "source": [
    "df_g = pd.read_csv(\"data/gutenberg.tsv\", sep=\"\\t\", names=[\"text\"])\n",
    "df_g = df_g[df_g[\"text\"].str.len() < MAX_LEN_CHARS]\n",
    "\n",
    "# shuffle\n",
    "df_g[\"id\"] = df_g[\"text\"].map(lambda x: mmh3.hash64(x.encode('utf8'))[0])\n",
    "df_g[\"text\"] = df_g[\"text\"].map(lambda x: re.sub(r'[^\\x00-\\x7F]+', '', x))\n",
    "df_g[\"text\"] = df_g[\"text\"].map(lambda x: re.sub(' +', ' ', x).strip())\n",
    "df_g = df_g.sort_values(\"id\")\n",
    "len(df_g)"
   ]
  },
  {
   "cell_type": "code",
   "execution_count": 6,
   "id": "ea0a6094",
   "metadata": {},
   "outputs": [
    {
     "data": {
      "text/plain": [
       "10000"
      ]
     },
     "execution_count": 6,
     "metadata": {},
     "output_type": "execute_result"
    }
   ],
   "source": [
    "test_size = 10000\n",
    "texts_t = list(df_t[\"text\"])[-test_size:]\n",
    "texts_t = [text for text in texts_t if text.isascii()]\n",
    "len(texts_t)"
   ]
  },
  {
   "cell_type": "code",
   "execution_count": 7,
   "id": "0095b97d",
   "metadata": {},
   "outputs": [
    {
     "data": {
      "text/plain": [
       "10000"
      ]
     },
     "execution_count": 7,
     "metadata": {},
     "output_type": "execute_result"
    }
   ],
   "source": [
    "test_size = 10000\n",
    "texts_o = list(df_o[\"text\"])[-test_size:]\n",
    "texts_o = [text for text in texts_o if text.isascii()]\n",
    "len(texts_o)"
   ]
  },
  {
   "cell_type": "code",
   "execution_count": 8,
   "id": "a06749d8",
   "metadata": {},
   "outputs": [
    {
     "data": {
      "text/plain": [
       "10000"
      ]
     },
     "execution_count": 8,
     "metadata": {},
     "output_type": "execute_result"
    }
   ],
   "source": [
    "test_size = 10000\n",
    "texts_g = list(df_g[\"text\"])[-test_size:]\n",
    "texts_g = [text for text in texts_g if text.isascii()]\n",
    "len(texts_g)"
   ]
  },
  {
   "cell_type": "code",
   "execution_count": 9,
   "id": "e06fa941",
   "metadata": {},
   "outputs": [
    {
     "data": {
      "text/plain": [
       "\"Alice didn't see the dog.\""
      ]
     },
     "execution_count": 9,
     "metadata": {},
     "output_type": "execute_result"
    }
   ],
   "source": [
    "texts_t[1]"
   ]
  },
  {
   "cell_type": "code",
   "execution_count": 10,
   "id": "9b053a2f",
   "metadata": {},
   "outputs": [
    {
     "data": {
      "text/plain": [
       "\"Since the JavaScript support doesn't understand ES7 constructs, features like IntelliSense might not be fully accurate.\""
      ]
     },
     "execution_count": 10,
     "metadata": {},
     "output_type": "execute_result"
    }
   ],
   "source": [
    "texts_o[1]"
   ]
  },
  {
   "cell_type": "code",
   "execution_count": 11,
   "id": "c0f77aa9",
   "metadata": {},
   "outputs": [
    {
     "data": {
      "text/plain": [
       "'\"I don\\'t fear him, anyway he comes,\" replied Will Banion. \"I don\\'t like it, but all of this was forced on me.\"'"
      ]
     },
     "execution_count": 11,
     "metadata": {},
     "output_type": "execute_result"
    }
   ],
   "source": [
    "texts_g[1]"
   ]
  },
  {
   "cell_type": "code",
   "execution_count": 12,
   "id": "1d203538",
   "metadata": {},
   "outputs": [],
   "source": [
    "texts = texts_t + texts_o + texts_g"
   ]
  },
  {
   "cell_type": "code",
   "execution_count": 13,
   "id": "19b10b6e",
   "metadata": {},
   "outputs": [],
   "source": [
    "label_list = ['O', 'B-COMMA']\n",
    "tokenizer = AutoTokenizer.from_pretrained('./comma-distilroberta-base-3domains/')\n",
    "model = AutoModelForTokenClassification.from_pretrained('./comma-distilroberta-base-3domains/', num_labels=len(label_list))"
   ]
  },
  {
   "cell_type": "code",
   "execution_count": 14,
   "id": "edf89f1e",
   "metadata": {},
   "outputs": [],
   "source": [
    "def predict_labels(text):\n",
    "    words = text.split(\" \")\n",
    "    words_without_comma = [word.replace(\",\", \"\") for word in words]\n",
    "    tokens = tokenizer(words_without_comma, truncation=True, is_split_into_words=True)\n",
    "    word_ids = tokens.word_ids()\n",
    "    predictions = model.forward(input_ids=torch.tensor(tokens['input_ids']).unsqueeze(0), attention_mask=torch.tensor(tokens['attention_mask']).unsqueeze(0))\n",
    "    predictions = torch.argmax(predictions.logits.squeeze(), axis=1)\n",
    "\n",
    "    word_preds = [label_list[0] for _ in words]\n",
    "    for pred, word_id in zip(predictions.numpy(), word_ids):\n",
    "        if word_id is not None and pred != 0:\n",
    "            word_preds[word_id] = label_list[pred]\n",
    "    return word_preds\n",
    "\n",
    "def predict_labels_batch(l_texts):\n",
    "    words_without_comma = [[word.replace(\",\", \"\") for word in text.split(\" \")] for text in l_texts]\n",
    "    tokens = tokenizer(words_without_comma, truncation=True, is_split_into_words=True)\n",
    "    max_len = max(len(x) for x in tokens[\"input_ids\"])\n",
    "    for input_ids in tokens[\"input_ids\"]:\n",
    "        input_ids.extend([0] * (max_len - len(input_ids)))\n",
    "    for attention_mask in tokens[\"attention_mask\"]:\n",
    "        attention_mask.extend([0] * (max_len - len(attention_mask)))\n",
    "    predictions = model.forward(input_ids=torch.tensor(tokens['input_ids']), attention_mask=torch.tensor(tokens['attention_mask']))\n",
    "    predictions = torch.argmax(predictions.logits.squeeze(), axis=-1)\n",
    "\n",
    "    word_preds = []\n",
    "    for i in range(len(l_texts)):\n",
    "        word_ids = tokens.word_ids(batch_index=i)\n",
    "        word_preds.append([label_list[0] for _ in words_without_comma[i]])\n",
    "        for pred, word_id in zip(predictions[i].numpy(), word_ids):\n",
    "            if word_id is not None and pred != 0:\n",
    "                word_preds[i][word_id] = label_list[pred]\n",
    "    return word_preds"
   ]
  },
  {
   "cell_type": "code",
   "execution_count": 15,
   "id": "bd0cf757",
   "metadata": {},
   "outputs": [],
   "source": [
    "metric = load_metric(\"seqeval\")"
   ]
  },
  {
   "cell_type": "code",
   "execution_count": 16,
   "id": "268dd1d3",
   "metadata": {},
   "outputs": [
    {
     "name": "stderr",
     "output_type": "stream",
     "text": [
      "100%|███████████████████████████████████████████████████████████████████████████████████████████████████████████████████████████████████████████████████████████████████████████████████████████████████████████████████████| 469/469 [08:57<00:00,  1.15s/it]\n"
     ]
    }
   ],
   "source": [
    "BATCH_SIZE = 64\n",
    "predictions = []\n",
    "for i in tqdm(range(0, len(texts), BATCH_SIZE)):\n",
    "    predictions.extend(predict_labels_batch(texts[i:i+BATCH_SIZE]))"
   ]
  },
  {
   "cell_type": "code",
   "execution_count": 17,
   "id": "a3502da5",
   "metadata": {},
   "outputs": [],
   "source": [
    "labels = [\n",
    "    [\"B-COMMA\" if \",\" in token else \"O\" for token in text.split(\" \")]\n",
    "    for text in texts\n",
    "]"
   ]
  },
  {
   "cell_type": "code",
   "execution_count": 18,
   "id": "aa30bd11",
   "metadata": {},
   "outputs": [
    {
     "data": {
      "text/plain": [
       "{'COMMA': {'precision': 0.8378378378378378,\n",
       "  'recall': 0.8166786036807523,\n",
       "  'f1': 0.8271229204446897,\n",
       "  'number': 32113},\n",
       " 'overall_precision': 0.8378378378378378,\n",
       " 'overall_recall': 0.8166786036807523,\n",
       " 'overall_f1': 0.8271229204446897,\n",
       " 'overall_accuracy': 0.9798254347109993}"
      ]
     },
     "execution_count": 18,
     "metadata": {},
     "output_type": "execute_result"
    }
   ],
   "source": [
    "results = metric.compute(predictions=predictions, references=labels)\n",
    "results"
   ]
  },
  {
   "cell_type": "code",
   "execution_count": 19,
   "id": "ad5e9f6e",
   "metadata": {},
   "outputs": [
    {
     "data": {
      "text/plain": [
       "{'COMMA': {'precision': 0.8464730290456431,\n",
       "  'recall': 0.845771144278607,\n",
       "  'f1': 0.8461219411032767,\n",
       "  'number': 1206},\n",
       " 'overall_precision': 0.8464730290456431,\n",
       " 'overall_recall': 0.845771144278607,\n",
       " 'overall_f1': 0.8461219411032767,\n",
       " 'overall_accuracy': 0.9951700883964953}"
      ]
     },
     "execution_count": 19,
     "metadata": {},
     "output_type": "execute_result"
    }
   ],
   "source": [
    "# tatoeba\n",
    "results = metric.compute(predictions=predictions[0:10000], references=labels[0:10000])\n",
    "results"
   ]
  },
  {
   "cell_type": "code",
   "execution_count": 20,
   "id": "d0fe706f",
   "metadata": {},
   "outputs": [
    {
     "data": {
      "text/plain": [
       "{'COMMA': {'precision': 0.8275974025974026,\n",
       "  'recall': 0.8210661942341761,\n",
       "  'f1': 0.8243188616703047,\n",
       "  'number': 6209},\n",
       " 'overall_precision': 0.8275974025974026,\n",
       " 'overall_recall': 0.8210661942341761,\n",
       " 'overall_f1': 0.8243188616703047,\n",
       " 'overall_accuracy': 0.9860451973772935}"
      ]
     },
     "execution_count": 20,
     "metadata": {},
     "output_type": "execute_result"
    }
   ],
   "source": [
    "# oss\n",
    "results = metric.compute(predictions=predictions[10000:20000], references=labels[10000:20000])\n",
    "results"
   ]
  },
  {
   "cell_type": "code",
   "execution_count": 21,
   "id": "372d4516",
   "metadata": {},
   "outputs": [
    {
     "data": {
      "text/plain": [
       "{'COMMA': {'precision': 0.8400384342231692,\n",
       "  'recall': 0.8141549923070694,\n",
       "  'f1': 0.8268942119872521,\n",
       "  'number': 24698},\n",
       " 'overall_precision': 0.8400384342231692,\n",
       " 'overall_recall': 0.8141549923070694,\n",
       " 'overall_f1': 0.8268942119872521,\n",
       " 'overall_accuracy': 0.9729185497801381}"
      ]
     },
     "execution_count": 21,
     "metadata": {},
     "output_type": "execute_result"
    }
   ],
   "source": [
    "# gutenberg\n",
    "results = metric.compute(predictions=predictions[20000:30000], references=labels[20000:30000])\n",
    "results"
   ]
  },
  {
   "cell_type": "code",
   "execution_count": 22,
   "id": "5d65368d",
   "metadata": {},
   "outputs": [],
   "source": [
    "tokenizer = AutoTokenizer.from_pretrained('./comma-roberta-base-3domains-more-data/')\n",
    "model = AutoModelForTokenClassification.from_pretrained('./comma-roberta-base-3domains-more-data/', num_labels=len(label_list))"
   ]
  },
  {
   "cell_type": "code",
   "execution_count": 23,
   "id": "1264c97a",
   "metadata": {},
   "outputs": [
    {
     "name": "stderr",
     "output_type": "stream",
     "text": [
      "100%|███████████████████████████████████████████████████████████████████████████████████████████████████████████████████████████████████████████████████████████████████████████████████████████████████████████████████████| 469/469 [17:55<00:00,  2.29s/it]\n"
     ]
    }
   ],
   "source": [
    "BATCH_SIZE = 64\n",
    "predictions = []\n",
    "for i in tqdm(range(0, len(texts), BATCH_SIZE)):\n",
    "    predictions.extend(predict_labels_batch(texts[i:i+BATCH_SIZE]))"
   ]
  },
  {
   "cell_type": "code",
   "execution_count": 24,
   "id": "71558de1",
   "metadata": {},
   "outputs": [
    {
     "data": {
      "text/plain": [
       "{'COMMA': {'precision': 0.8662496463709805,\n",
       "  'recall': 0.8581571326254165,\n",
       "  'f1': 0.8621844007133249,\n",
       "  'number': 32113},\n",
       " 'overall_precision': 0.8662496463709805,\n",
       " 'overall_recall': 0.8581571326254165,\n",
       " 'overall_f1': 0.8621844007133249,\n",
       " 'overall_accuracy': 0.9837874742136189}"
      ]
     },
     "execution_count": 24,
     "metadata": {},
     "output_type": "execute_result"
    }
   ],
   "source": [
    "results = metric.compute(predictions=predictions, references=labels)\n",
    "results"
   ]
  },
  {
   "cell_type": "code",
   "execution_count": 25,
   "id": "f185a061",
   "metadata": {},
   "outputs": [
    {
     "data": {
      "text/plain": [
       "{'COMMA': {'precision': 0.8662262592898431,\n",
       "  'recall': 0.8698175787728026,\n",
       "  'f1': 0.868018204385602,\n",
       "  'number': 1206},\n",
       " 'overall_precision': 0.8662262592898431,\n",
       " 'overall_recall': 0.8698175787728026,\n",
       " 'overall_f1': 0.868018204385602,\n",
       " 'overall_accuracy': 0.9958470571387655}"
      ]
     },
     "execution_count": 25,
     "metadata": {},
     "output_type": "execute_result"
    }
   ],
   "source": [
    "# tatoeba\n",
    "results = metric.compute(predictions=predictions[0:10000], references=labels[0:10000])\n",
    "results"
   ]
  },
  {
   "cell_type": "code",
   "execution_count": 26,
   "id": "ffd1ba2c",
   "metadata": {},
   "outputs": [
    {
     "data": {
      "text/plain": [
       "{'COMMA': {'precision': 0.8464598249801114,\n",
       "  'recall': 0.8568207440811725,\n",
       "  'f1': 0.8516087722106611,\n",
       "  'number': 6209},\n",
       " 'overall_precision': 0.8464598249801114,\n",
       " 'overall_recall': 0.8568207440811725,\n",
       " 'overall_f1': 0.8516087722106611,\n",
       " 'overall_accuracy': 0.9880937855211698}"
      ]
     },
     "execution_count": 26,
     "metadata": {},
     "output_type": "execute_result"
    }
   ],
   "source": [
    "# oss\n",
    "results = metric.compute(predictions=predictions[10000:20000], references=labels[10000:20000])\n",
    "results"
   ]
  },
  {
   "cell_type": "code",
   "execution_count": 27,
   "id": "8430443f",
   "metadata": {},
   "outputs": [
    {
     "data": {
      "text/plain": [
       "{'COMMA': {'precision': 0.8713657112308262,\n",
       "  'recall': 0.8579237185197182,\n",
       "  'f1': 0.8645924716923391,\n",
       "  'number': 24698},\n",
       " 'overall_precision': 0.8713657112308262,\n",
       " 'overall_recall': 0.8579237185197182,\n",
       " 'overall_f1': 0.8645924716923391,\n",
       " 'overall_accuracy': 0.9786507203813727}"
      ]
     },
     "execution_count": 27,
     "metadata": {},
     "output_type": "execute_result"
    }
   ],
   "source": [
    "# gutenberg\n",
    "results = metric.compute(predictions=predictions[20000:30000], references=labels[20000:30000])\n",
    "results"
   ]
  }
 ],
 "metadata": {
  "kernelspec": {
   "display_name": "Python 3 (ipykernel)",
   "language": "python",
   "name": "python3"
  },
  "language_info": {
   "codemirror_mode": {
    "name": "ipython",
    "version": 3
   },
   "file_extension": ".py",
   "mimetype": "text/x-python",
   "name": "python",
   "nbconvert_exporter": "python",
   "pygments_lexer": "ipython3",
   "version": "3.8.12"
  }
 },
 "nbformat": 4,
 "nbformat_minor": 5
}
