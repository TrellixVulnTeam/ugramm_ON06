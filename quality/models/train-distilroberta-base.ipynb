{
 "cells": [
  {
   "cell_type": "code",
   "execution_count": 1,
   "id": "8fd0c110",
   "metadata": {},
   "outputs": [],
   "source": [
    "import os\n",
    "os.environ[\"CUDA_VISIBLE_DEVICES\"] = \"0,1,2,3\"\n",
    "os.environ[\"TOKENIZERS_PARALLELISM\"] = \"false\""
   ]
  },
  {
   "cell_type": "code",
   "execution_count": 2,
   "id": "79806304",
   "metadata": {},
   "outputs": [],
   "source": [
    "from datasets import Dataset, load_metric\n",
    "import mmh3\n",
    "import numpy as np\n",
    "import pandas as pd\n",
    "from transformers import AutoTokenizer, AutoModelForTokenClassification, TrainingArguments, Trainer, DataCollatorForTokenClassification\n",
    "import torch\n",
    "import random"
   ]
  },
  {
   "cell_type": "code",
   "execution_count": 3,
   "id": "483af875",
   "metadata": {},
   "outputs": [],
   "source": [
    "MAX_LEN_CHARS = 256*3"
   ]
  },
  {
   "cell_type": "code",
   "execution_count": 4,
   "id": "99a732b0",
   "metadata": {},
   "outputs": [
    {
     "data": {
      "text/plain": [
       "1582094"
      ]
     },
     "execution_count": 4,
     "metadata": {},
     "output_type": "execute_result"
    }
   ],
   "source": [
    "df_t = pd.read_csv(\"data/eng_sentences.tsv\", sep=\"\\t\", names=[\"id\", \"lang\", \"text\"])\n",
    "df_t = df_t[df_t[\"text\"].str.len() < MAX_LEN_CHARS]\n",
    "\n",
    "# shuffle\n",
    "df_t[\"id\"] = df_t[\"text\"].map(lambda x: mmh3.hash64(x.encode('utf8'))[0])\n",
    "df_t = df_t.sort_values(\"id\")\n",
    "len(df_t)"
   ]
  },
  {
   "cell_type": "code",
   "execution_count": 5,
   "id": "01267e98",
   "metadata": {},
   "outputs": [
    {
     "data": {
      "text/plain": [
       "66939"
      ]
     },
     "execution_count": 5,
     "metadata": {},
     "output_type": "execute_result"
    }
   ],
   "source": [
    "df_o = pd.read_csv(\"data/oss.tsv\", sep=\"\\t\", names=[\"text\"])\n",
    "df_o = df_o[df_o[\"text\"].str.len() < MAX_LEN_CHARS]\n",
    "\n",
    "# shuffle\n",
    "df_o[\"id\"] = df_o[\"text\"].map(lambda x: mmh3.hash64(x.encode('utf8'))[0])\n",
    "df_o = df_o.sort_values(\"id\")\n",
    "len(df_o)"
   ]
  },
  {
   "cell_type": "code",
   "execution_count": 6,
   "id": "8f2a0027",
   "metadata": {},
   "outputs": [
    {
     "data": {
      "text/plain": [
       "4102516"
      ]
     },
     "execution_count": 6,
     "metadata": {},
     "output_type": "execute_result"
    }
   ],
   "source": [
    "df_g = pd.read_csv(\"data/gutenberg.tsv\", sep=\"\\t\", names=[\"text\"])\n",
    "df_g = df_g[df_g[\"text\"].str.len() < MAX_LEN_CHARS]\n",
    "\n",
    "# shuffle\n",
    "df_g[\"id\"] = df_g[\"text\"].map(lambda x: mmh3.hash64(x.encode('utf8'))[0])\n",
    "df_g = df_g.sort_values(\"id\")\n",
    "len(df_g)"
   ]
  },
  {
   "cell_type": "code",
   "execution_count": 7,
   "id": "d20c7885",
   "metadata": {},
   "outputs": [
    {
     "data": {
      "text/html": [
       "<div>\n",
       "<style scoped>\n",
       "    .dataframe tbody tr th:only-of-type {\n",
       "        vertical-align: middle;\n",
       "    }\n",
       "\n",
       "    .dataframe tbody tr th {\n",
       "        vertical-align: top;\n",
       "    }\n",
       "\n",
       "    .dataframe thead th {\n",
       "        text-align: right;\n",
       "    }\n",
       "</style>\n",
       "<table border=\"1\" class=\"dataframe\">\n",
       "  <thead>\n",
       "    <tr style=\"text-align: right;\">\n",
       "      <th></th>\n",
       "      <th>id</th>\n",
       "      <th>lang</th>\n",
       "      <th>text</th>\n",
       "    </tr>\n",
       "  </thead>\n",
       "  <tbody>\n",
       "    <tr>\n",
       "      <th>1123557</th>\n",
       "      <td>-9223326714129212706</td>\n",
       "      <td>eng</td>\n",
       "      <td>Tom told everybody that he didn't know what to...</td>\n",
       "    </tr>\n",
       "  </tbody>\n",
       "</table>\n",
       "</div>"
      ],
      "text/plain": [
       "                          id lang  \\\n",
       "1123557 -9223326714129212706  eng   \n",
       "\n",
       "                                                      text  \n",
       "1123557  Tom told everybody that he didn't know what to...  "
      ]
     },
     "execution_count": 7,
     "metadata": {},
     "output_type": "execute_result"
    }
   ],
   "source": [
    "df_t.head(1)"
   ]
  },
  {
   "cell_type": "code",
   "execution_count": 8,
   "id": "314c9d30",
   "metadata": {},
   "outputs": [
    {
     "data": {
      "text/html": [
       "<div>\n",
       "<style scoped>\n",
       "    .dataframe tbody tr th:only-of-type {\n",
       "        vertical-align: middle;\n",
       "    }\n",
       "\n",
       "    .dataframe tbody tr th {\n",
       "        vertical-align: top;\n",
       "    }\n",
       "\n",
       "    .dataframe thead th {\n",
       "        text-align: right;\n",
       "    }\n",
       "</style>\n",
       "<table border=\"1\" class=\"dataframe\">\n",
       "  <thead>\n",
       "    <tr style=\"text-align: right;\">\n",
       "      <th></th>\n",
       "      <th>text</th>\n",
       "      <th>id</th>\n",
       "    </tr>\n",
       "  </thead>\n",
       "  <tbody>\n",
       "    <tr>\n",
       "      <th>12494</th>\n",
       "      <td>Sometimes you need to access a type passed as ...</td>\n",
       "      <td>-9222670596738368818</td>\n",
       "    </tr>\n",
       "  </tbody>\n",
       "</table>\n",
       "</div>"
      ],
      "text/plain": [
       "                                                    text                   id\n",
       "12494  Sometimes you need to access a type passed as ... -9222670596738368818"
      ]
     },
     "execution_count": 8,
     "metadata": {},
     "output_type": "execute_result"
    }
   ],
   "source": [
    "df_o.head(1)"
   ]
  },
  {
   "cell_type": "code",
   "execution_count": 9,
   "id": "fd08fd53",
   "metadata": {},
   "outputs": [
    {
     "data": {
      "text/html": [
       "<div>\n",
       "<style scoped>\n",
       "    .dataframe tbody tr th:only-of-type {\n",
       "        vertical-align: middle;\n",
       "    }\n",
       "\n",
       "    .dataframe tbody tr th {\n",
       "        vertical-align: top;\n",
       "    }\n",
       "\n",
       "    .dataframe thead th {\n",
       "        text-align: right;\n",
       "    }\n",
       "</style>\n",
       "<table border=\"1\" class=\"dataframe\">\n",
       "  <thead>\n",
       "    <tr style=\"text-align: right;\">\n",
       "      <th></th>\n",
       "      <th>text</th>\n",
       "      <th>id</th>\n",
       "    </tr>\n",
       "  </thead>\n",
       "  <tbody>\n",
       "    <tr>\n",
       "      <th>1285889</th>\n",
       "      <td>To persons standing alone on a hill during a c...</td>\n",
       "      <td>-9223366647700897551</td>\n",
       "    </tr>\n",
       "  </tbody>\n",
       "</table>\n",
       "</div>"
      ],
      "text/plain": [
       "                                                      text  \\\n",
       "1285889  To persons standing alone on a hill during a c...   \n",
       "\n",
       "                          id  \n",
       "1285889 -9223366647700897551  "
      ]
     },
     "execution_count": 9,
     "metadata": {},
     "output_type": "execute_result"
    }
   ],
   "source": [
    "df_g.head(1)"
   ]
  },
  {
   "cell_type": "code",
   "execution_count": 12,
   "id": "755b5770",
   "metadata": {},
   "outputs": [
    {
     "data": {
      "text/plain": [
       "(2046939, 30000, 30000)"
      ]
     },
     "execution_count": 12,
     "metadata": {},
     "output_type": "execute_result"
    }
   ],
   "source": [
    "train_t_size = 1000000\n",
    "train_o_size = 66939-20000\n",
    "train_g_size = 1000000\n",
    "val_size = 10000\n",
    "test_size = 10000\n",
    "assert(train_t_size + val_size + test_size <= len(df_t[\"text\"]))\n",
    "assert(train_o_size + val_size + test_size <= len(df_o[\"text\"]))\n",
    "assert(train_g_size + val_size + test_size <= len(df_g[\"text\"]))\n",
    "\n",
    "train_text = list(df_t[\"text\"])[:train_t_size] + list(df_o[\"text\"])[:train_o_size] + list(df_g[\"text\"])[:train_g_size]\n",
    "random.Random(4).shuffle(train_text)\n",
    "\n",
    "val_text = list(df_t[\"text\"])[-val_size-test_size:-test_size] + list(df_o[\"text\"])[-val_size-test_size:-test_size] \\\n",
    "+ list(df_g[\"text\"])[-val_size-test_size:-test_size]\n",
    "\n",
    "test_text = list(df_t[\"text\"])[-test_size:] + list(df_o[\"text\"])[-test_size:] + list(df_g[\"text\"])[-test_size:]\n",
    "\n",
    "len(train_text), len(val_text), len(test_text)"
   ]
  },
  {
   "cell_type": "code",
   "execution_count": 13,
   "id": "17da8a47",
   "metadata": {},
   "outputs": [
    {
     "data": {
      "text/plain": [
       "[\"And with my sister-nymphs I sport, Till the broad sun looks o'er the floods; Then, swift we seek our crystal court, Deep in the wave, 'mid Neptune's woods.\",\n",
       " '\"To learn to know nothing, go whither you are ignorant.',\n",
       " \"He's very angry with her.\"]"
      ]
     },
     "execution_count": 13,
     "metadata": {},
     "output_type": "execute_result"
    }
   ],
   "source": [
    "train_text[:3]"
   ]
  },
  {
   "cell_type": "code",
   "execution_count": 14,
   "id": "bce1ec36",
   "metadata": {},
   "outputs": [],
   "source": [
    "label_list = ['O', 'B-COMMA']\n",
    "label_encoding_dict = {'O': 0, 'B-COMMA': 1}\n",
    "\n",
    "model_checkpoint = \"distilroberta-base\"\n",
    "batch_size = 128"
   ]
  },
  {
   "cell_type": "code",
   "execution_count": 15,
   "id": "6adb6c1c",
   "metadata": {},
   "outputs": [
    {
     "name": "stderr",
     "output_type": "stream",
     "text": [
      "Some weights of the model checkpoint at distilroberta-base were not used when initializing RobertaForTokenClassification: ['lm_head.layer_norm.bias', 'lm_head.layer_norm.weight', 'lm_head.decoder.weight', 'lm_head.bias', 'lm_head.dense.bias', 'lm_head.dense.weight']\n",
      "- This IS expected if you are initializing RobertaForTokenClassification from the checkpoint of a model trained on another task or with another architecture (e.g. initializing a BertForSequenceClassification model from a BertForPreTraining model).\n",
      "- This IS NOT expected if you are initializing RobertaForTokenClassification from the checkpoint of a model that you expect to be exactly identical (initializing a BertForSequenceClassification model from a BertForSequenceClassification model).\n",
      "Some weights of RobertaForTokenClassification were not initialized from the model checkpoint at distilroberta-base and are newly initialized: ['classifier.weight', 'classifier.bias']\n",
      "You should probably TRAIN this model on a down-stream task to be able to use it for predictions and inference.\n"
     ]
    }
   ],
   "source": [
    "if \"roberta\" in model_checkpoint:\n",
    "    tokenizer = AutoTokenizer.from_pretrained(model_checkpoint, add_prefix_space=True)\n",
    "else:\n",
    "    tokenizer = AutoTokenizer.from_pretrained(model_checkpoint)\n",
    "model = AutoModelForTokenClassification.from_pretrained(model_checkpoint, num_labels=len(label_list))\n",
    "args = TrainingArguments(\n",
    "    \"comma-\" + model_checkpoint,\n",
    "    evaluation_strategy=\"steps\",\n",
    "    eval_steps=500,\n",
    "    learning_rate=2e-5,\n",
    "    per_device_train_batch_size=batch_size,\n",
    "    per_device_eval_batch_size=batch_size,\n",
    "    num_train_epochs=3,\n",
    "    weight_decay=1e-5,\n",
    ")"
   ]
  },
  {
   "cell_type": "code",
   "execution_count": 16,
   "id": "9ef91e6d",
   "metadata": {},
   "outputs": [],
   "source": [
    "def to_dataset(texts):\n",
    "    tokens, tags = [], []\n",
    "    for text in texts:\n",
    "        text_tokens, text_tags = [], []\n",
    "        for token in text.split(\" \"):\n",
    "            if \",\" in token:\n",
    "                tag = \"B-COMMA\"\n",
    "                token = token.replace(\",\", \"\")\n",
    "            else:\n",
    "                tag = \"O\"\n",
    "            text_tokens.append(token)\n",
    "            text_tags.append(tag)\n",
    "        tokens.append(text_tokens)\n",
    "        tags.append(text_tags)\n",
    "    return Dataset.from_pandas(pd.DataFrame({\n",
    "        'tokens': tokens, 'tags': tags\n",
    "    }))"
   ]
  },
  {
   "cell_type": "code",
   "execution_count": 17,
   "id": "a5097093",
   "metadata": {},
   "outputs": [
    {
     "data": {
      "text/plain": [
       "Dataset({\n",
       "    features: ['tokens', 'tags'],\n",
       "    num_rows: 2046939\n",
       "})"
      ]
     },
     "execution_count": 17,
     "metadata": {},
     "output_type": "execute_result"
    }
   ],
   "source": [
    "train_dataset = to_dataset(train_text)\n",
    "val_dataset = to_dataset(val_text)\n",
    "test_dataset = to_dataset(test_text)\n",
    "\n",
    "train_dataset"
   ]
  },
  {
   "cell_type": "code",
   "execution_count": 18,
   "id": "1a023286",
   "metadata": {},
   "outputs": [
    {
     "data": {
      "application/vnd.jupyter.widget-view+json": {
       "model_id": "de623891144d419387fe36fc6a851bb5",
       "version_major": 2,
       "version_minor": 0
      },
      "text/plain": [
       "  0%|          | 0/2047 [00:00<?, ?ba/s]"
      ]
     },
     "metadata": {},
     "output_type": "display_data"
    },
    {
     "data": {
      "application/vnd.jupyter.widget-view+json": {
       "model_id": "d73bfa0676394d6b9e42a99e9a8b03c8",
       "version_major": 2,
       "version_minor": 0
      },
      "text/plain": [
       "  0%|          | 0/30 [00:00<?, ?ba/s]"
      ]
     },
     "metadata": {},
     "output_type": "display_data"
    }
   ],
   "source": [
    "def tokenize_and_align_labels(examples):\n",
    "    label_all_tokens = True\n",
    "    tokenized_inputs = tokenizer(list(examples[\"tokens\"]), truncation=True, is_split_into_words=True)\n",
    "\n",
    "    labels = []\n",
    "    for i, label in enumerate(examples[\"tags\"]):\n",
    "        word_ids = tokenized_inputs.word_ids(batch_index=i)\n",
    "        previous_word_idx = None\n",
    "        label_ids = []\n",
    "        for word_idx in word_ids:\n",
    "            if word_idx is None:\n",
    "                label_ids.append(-100)\n",
    "            elif label[word_idx] == '0':\n",
    "                label_ids.append(0)\n",
    "            elif word_idx != previous_word_idx:\n",
    "                label_ids.append(label_encoding_dict[label[word_idx]])\n",
    "            else:\n",
    "                label_ids.append(label_encoding_dict[label[word_idx]] if label_all_tokens else -100)\n",
    "            previous_word_idx = word_idx\n",
    "        labels.append(label_ids)\n",
    "        \n",
    "    tokenized_inputs[\"labels\"] = labels\n",
    "    return tokenized_inputs\n",
    "\n",
    "train_tokenized_datasets = train_dataset.map(tokenize_and_align_labels, batched=True)\n",
    "test_tokenized_datasets = test_dataset.map(tokenize_and_align_labels, batched=True)"
   ]
  },
  {
   "cell_type": "code",
   "execution_count": 19,
   "id": "f03c4e23",
   "metadata": {},
   "outputs": [],
   "source": [
    "data_collator = DataCollatorForTokenClassification(tokenizer)\n",
    "metric = load_metric(\"seqeval\")\n",
    "\n",
    "def compute_metrics(p):\n",
    "    predictions, labels = p\n",
    "    predictions = np.argmax(predictions, axis=2)\n",
    "\n",
    "    true_predictions = [[label_list[p] for (p, l) in zip(prediction, label) if l != -100] for prediction, label in zip(predictions, labels)]\n",
    "    true_labels = [[label_list[l] for (p, l) in zip(prediction, label) if l != -100] for prediction, label in zip(predictions, labels)]\n",
    "\n",
    "    results = metric.compute(predictions=true_predictions, references=true_labels)\n",
    "    return {\n",
    "        \"precision\": results[\"overall_precision\"],\n",
    "        \"recall\": results[\"overall_recall\"],\n",
    "        \"f1\": results[\"overall_f1\"],\n",
    "        \"accuracy\": results[\"overall_accuracy\"]\n",
    "    }\n",
    "    \n",
    "trainer = Trainer(\n",
    "    model,\n",
    "    args,\n",
    "    train_dataset=train_tokenized_datasets,\n",
    "    eval_dataset=test_tokenized_datasets,\n",
    "    data_collator=data_collator,\n",
    "    tokenizer=tokenizer,\n",
    "    compute_metrics=compute_metrics\n",
    ")"
   ]
  },
  {
   "cell_type": "code",
   "execution_count": 20,
   "id": "f4f9c49b",
   "metadata": {
    "scrolled": true
   },
   "outputs": [
    {
     "name": "stderr",
     "output_type": "stream",
     "text": [
      "The following columns in the training set  don't have a corresponding argument in `RobertaForTokenClassification.forward` and have been ignored: tokens, tags. If tokens, tags are not expected by `RobertaForTokenClassification.forward`,  you can safely ignore this message.\n",
      "/opt/conda/lib/python3.8/site-packages/transformers/optimization.py:306: FutureWarning: This implementation of AdamW is deprecated and will be removed in a future version. Use the PyTorch implementation torch.optim.AdamW instead, or set `no_deprecation_warning=True` to disable this warning\n",
      "  warnings.warn(\n",
      "***** Running training *****\n",
      "  Num examples = 2046939\n",
      "  Num Epochs = 3\n",
      "  Instantaneous batch size per device = 128\n",
      "  Total train batch size (w. parallel, distributed & accumulation) = 512\n",
      "  Gradient Accumulation steps = 1\n",
      "  Total optimization steps = 11994\n",
      "Automatic Weights & Biases logging enabled, to disable set os.environ[\"WANDB_DISABLED\"] = \"true\"\n",
      "\u001b[34m\u001b[1mwandb\u001b[0m: Currently logged in as: \u001b[33mfirefish\u001b[0m (use `wandb login --relogin` to force relogin)\n"
     ]
    },
    {
     "data": {
      "text/html": [
       "wandb version 0.12.15 is available!  To upgrade, please run:\n",
       " $ pip install wandb --upgrade"
      ],
      "text/plain": [
       "<IPython.core.display.HTML object>"
      ]
     },
     "metadata": {},
     "output_type": "display_data"
    },
    {
     "data": {
      "text/html": [
       "Tracking run with wandb version 0.12.14"
      ],
      "text/plain": [
       "<IPython.core.display.HTML object>"
      ]
     },
     "metadata": {},
     "output_type": "display_data"
    },
    {
     "data": {
      "text/html": [
       "Run data is saved locally in <code>/root/shared/punct/wandb/run-20220423_110703-3o5t17i8</code>"
      ],
      "text/plain": [
       "<IPython.core.display.HTML object>"
      ]
     },
     "metadata": {},
     "output_type": "display_data"
    },
    {
     "data": {
      "text/html": [
       "Syncing run <strong><a href=\"https://wandb.ai/firefish/huggingface/runs/3o5t17i8\" target=\"_blank\">comma-distilroberta-base</a></strong> to <a href=\"https://wandb.ai/firefish/huggingface\" target=\"_blank\">Weights & Biases</a> (<a href=\"https://wandb.me/run\" target=\"_blank\">docs</a>)<br/>"
      ],
      "text/plain": [
       "<IPython.core.display.HTML object>"
      ]
     },
     "metadata": {},
     "output_type": "display_data"
    },
    {
     "name": "stderr",
     "output_type": "stream",
     "text": [
      "/opt/conda/lib/python3.8/site-packages/torch/nn/parallel/_functions.py:68: UserWarning: Was asked to gather along dimension 0, but all input tensors were scalars; will instead unsqueeze and return a vector.\n",
      "  warnings.warn('Was asked to gather along dimension 0, but all '\n"
     ]
    },
    {
     "data": {
      "text/html": [
       "\n",
       "    <div>\n",
       "      \n",
       "      <progress value='11994' max='11994' style='width:300px; height:20px; vertical-align: middle;'></progress>\n",
       "      [11994/11994 1:05:25, Epoch 3/3]\n",
       "    </div>\n",
       "    <table border=\"1\" class=\"dataframe\">\n",
       "  <thead>\n",
       " <tr style=\"text-align: left;\">\n",
       "      <th>Step</th>\n",
       "      <th>Training Loss</th>\n",
       "      <th>Validation Loss</th>\n",
       "      <th>Precision</th>\n",
       "      <th>Recall</th>\n",
       "      <th>F1</th>\n",
       "      <th>Accuracy</th>\n",
       "    </tr>\n",
       "  </thead>\n",
       "  <tbody>\n",
       "    <tr>\n",
       "      <td>500</td>\n",
       "      <td>0.107000</td>\n",
       "      <td>0.058242</td>\n",
       "      <td>0.823735</td>\n",
       "      <td>0.699652</td>\n",
       "      <td>0.756640</td>\n",
       "      <td>0.970153</td>\n",
       "    </tr>\n",
       "    <tr>\n",
       "      <td>1000</td>\n",
       "      <td>0.076300</td>\n",
       "      <td>0.052231</td>\n",
       "      <td>0.828088</td>\n",
       "      <td>0.749265</td>\n",
       "      <td>0.786707</td>\n",
       "      <td>0.973056</td>\n",
       "    </tr>\n",
       "    <tr>\n",
       "      <td>1500</td>\n",
       "      <td>0.071900</td>\n",
       "      <td>0.048736</td>\n",
       "      <td>0.830833</td>\n",
       "      <td>0.774195</td>\n",
       "      <td>0.801515</td>\n",
       "      <td>0.974571</td>\n",
       "    </tr>\n",
       "    <tr>\n",
       "      <td>2000</td>\n",
       "      <td>0.069000</td>\n",
       "      <td>0.047324</td>\n",
       "      <td>0.824775</td>\n",
       "      <td>0.791832</td>\n",
       "      <td>0.807968</td>\n",
       "      <td>0.975039</td>\n",
       "    </tr>\n",
       "    <tr>\n",
       "      <td>2500</td>\n",
       "      <td>0.067400</td>\n",
       "      <td>0.046483</td>\n",
       "      <td>0.830424</td>\n",
       "      <td>0.799641</td>\n",
       "      <td>0.814742</td>\n",
       "      <td>0.975884</td>\n",
       "    </tr>\n",
       "    <tr>\n",
       "      <td>3000</td>\n",
       "      <td>0.066000</td>\n",
       "      <td>0.045003</td>\n",
       "      <td>0.838634</td>\n",
       "      <td>0.790553</td>\n",
       "      <td>0.813884</td>\n",
       "      <td>0.976022</td>\n",
       "    </tr>\n",
       "    <tr>\n",
       "      <td>3500</td>\n",
       "      <td>0.065000</td>\n",
       "      <td>0.044327</td>\n",
       "      <td>0.843285</td>\n",
       "      <td>0.792932</td>\n",
       "      <td>0.817333</td>\n",
       "      <td>0.976495</td>\n",
       "    </tr>\n",
       "    <tr>\n",
       "      <td>4000</td>\n",
       "      <td>0.064100</td>\n",
       "      <td>0.043444</td>\n",
       "      <td>0.847701</td>\n",
       "      <td>0.796342</td>\n",
       "      <td>0.821219</td>\n",
       "      <td>0.977006</td>\n",
       "    </tr>\n",
       "    <tr>\n",
       "      <td>4500</td>\n",
       "      <td>0.061800</td>\n",
       "      <td>0.043404</td>\n",
       "      <td>0.833055</td>\n",
       "      <td>0.818176</td>\n",
       "      <td>0.825548</td>\n",
       "      <td>0.977068</td>\n",
       "    </tr>\n",
       "    <tr>\n",
       "      <td>5000</td>\n",
       "      <td>0.061300</td>\n",
       "      <td>0.043141</td>\n",
       "      <td>0.844168</td>\n",
       "      <td>0.807988</td>\n",
       "      <td>0.825682</td>\n",
       "      <td>0.977375</td>\n",
       "    </tr>\n",
       "    <tr>\n",
       "      <td>5500</td>\n",
       "      <td>0.061000</td>\n",
       "      <td>0.042531</td>\n",
       "      <td>0.847477</td>\n",
       "      <td>0.806059</td>\n",
       "      <td>0.826249</td>\n",
       "      <td>0.977518</td>\n",
       "    </tr>\n",
       "    <tr>\n",
       "      <td>6000</td>\n",
       "      <td>0.060300</td>\n",
       "      <td>0.042355</td>\n",
       "      <td>0.844299</td>\n",
       "      <td>0.810008</td>\n",
       "      <td>0.826798</td>\n",
       "      <td>0.977494</td>\n",
       "    </tr>\n",
       "    <tr>\n",
       "      <td>6500</td>\n",
       "      <td>0.059900</td>\n",
       "      <td>0.042383</td>\n",
       "      <td>0.847380</td>\n",
       "      <td>0.808819</td>\n",
       "      <td>0.827650</td>\n",
       "      <td>0.977661</td>\n",
       "    </tr>\n",
       "    <tr>\n",
       "      <td>7000</td>\n",
       "      <td>0.060000</td>\n",
       "      <td>0.042232</td>\n",
       "      <td>0.846506</td>\n",
       "      <td>0.809941</td>\n",
       "      <td>0.827820</td>\n",
       "      <td>0.977656</td>\n",
       "    </tr>\n",
       "    <tr>\n",
       "      <td>7500</td>\n",
       "      <td>0.059600</td>\n",
       "      <td>0.042137</td>\n",
       "      <td>0.835366</td>\n",
       "      <td>0.827062</td>\n",
       "      <td>0.831193</td>\n",
       "      <td>0.977722</td>\n",
       "    </tr>\n",
       "    <tr>\n",
       "      <td>8000</td>\n",
       "      <td>0.059100</td>\n",
       "      <td>0.042002</td>\n",
       "      <td>0.839412</td>\n",
       "      <td>0.823269</td>\n",
       "      <td>0.831262</td>\n",
       "      <td>0.977835</td>\n",
       "    </tr>\n",
       "    <tr>\n",
       "      <td>8500</td>\n",
       "      <td>0.057500</td>\n",
       "      <td>0.041905</td>\n",
       "      <td>0.850448</td>\n",
       "      <td>0.811175</td>\n",
       "      <td>0.830347</td>\n",
       "      <td>0.978018</td>\n",
       "    </tr>\n",
       "    <tr>\n",
       "      <td>9000</td>\n",
       "      <td>0.057400</td>\n",
       "      <td>0.042110</td>\n",
       "      <td>0.854204</td>\n",
       "      <td>0.804981</td>\n",
       "      <td>0.828863</td>\n",
       "      <td>0.977955</td>\n",
       "    </tr>\n",
       "    <tr>\n",
       "      <td>9500</td>\n",
       "      <td>0.057400</td>\n",
       "      <td>0.041660</td>\n",
       "      <td>0.839829</td>\n",
       "      <td>0.825827</td>\n",
       "      <td>0.832770</td>\n",
       "      <td>0.978004</td>\n",
       "    </tr>\n",
       "    <tr>\n",
       "      <td>10000</td>\n",
       "      <td>0.057300</td>\n",
       "      <td>0.041490</td>\n",
       "      <td>0.846700</td>\n",
       "      <td>0.818467</td>\n",
       "      <td>0.832344</td>\n",
       "      <td>0.978134</td>\n",
       "    </tr>\n",
       "    <tr>\n",
       "      <td>10500</td>\n",
       "      <td>0.057500</td>\n",
       "      <td>0.041472</td>\n",
       "      <td>0.847992</td>\n",
       "      <td>0.816044</td>\n",
       "      <td>0.831711</td>\n",
       "      <td>0.978100</td>\n",
       "    </tr>\n",
       "    <tr>\n",
       "      <td>11000</td>\n",
       "      <td>0.056900</td>\n",
       "      <td>0.041414</td>\n",
       "      <td>0.848381</td>\n",
       "      <td>0.817256</td>\n",
       "      <td>0.832528</td>\n",
       "      <td>0.978195</td>\n",
       "    </tr>\n",
       "    <tr>\n",
       "      <td>11500</td>\n",
       "      <td>0.057300</td>\n",
       "      <td>0.041283</td>\n",
       "      <td>0.845866</td>\n",
       "      <td>0.821115</td>\n",
       "      <td>0.833307</td>\n",
       "      <td>0.978214</td>\n",
       "    </tr>\n",
       "  </tbody>\n",
       "</table><p>"
      ],
      "text/plain": [
       "<IPython.core.display.HTML object>"
      ]
     },
     "metadata": {},
     "output_type": "display_data"
    },
    {
     "name": "stderr",
     "output_type": "stream",
     "text": [
      "The following columns in the evaluation set  don't have a corresponding argument in `RobertaForTokenClassification.forward` and have been ignored: tokens, tags. If tokens, tags are not expected by `RobertaForTokenClassification.forward`,  you can safely ignore this message.\n",
      "***** Running Evaluation *****\n",
      "  Num examples = 30000\n",
      "  Batch size = 128\n",
      "Saving model checkpoint to comma-distilroberta-base/checkpoint-500\n",
      "Configuration saved in comma-distilroberta-base/checkpoint-500/config.json\n",
      "Model weights saved in comma-distilroberta-base/checkpoint-500/pytorch_model.bin\n",
      "tokenizer config file saved in comma-distilroberta-base/checkpoint-500/tokenizer_config.json\n",
      "Special tokens file saved in comma-distilroberta-base/checkpoint-500/special_tokens_map.json\n",
      "/opt/conda/lib/python3.8/site-packages/torch/nn/parallel/_functions.py:68: UserWarning: Was asked to gather along dimension 0, but all input tensors were scalars; will instead unsqueeze and return a vector.\n",
      "  warnings.warn('Was asked to gather along dimension 0, but all '\n",
      "The following columns in the evaluation set  don't have a corresponding argument in `RobertaForTokenClassification.forward` and have been ignored: tokens, tags. If tokens, tags are not expected by `RobertaForTokenClassification.forward`,  you can safely ignore this message.\n",
      "***** Running Evaluation *****\n",
      "  Num examples = 30000\n",
      "  Batch size = 128\n",
      "Saving model checkpoint to comma-distilroberta-base/checkpoint-1000\n",
      "Configuration saved in comma-distilroberta-base/checkpoint-1000/config.json\n",
      "Model weights saved in comma-distilroberta-base/checkpoint-1000/pytorch_model.bin\n",
      "tokenizer config file saved in comma-distilroberta-base/checkpoint-1000/tokenizer_config.json\n",
      "Special tokens file saved in comma-distilroberta-base/checkpoint-1000/special_tokens_map.json\n",
      "/opt/conda/lib/python3.8/site-packages/torch/nn/parallel/_functions.py:68: UserWarning: Was asked to gather along dimension 0, but all input tensors were scalars; will instead unsqueeze and return a vector.\n",
      "  warnings.warn('Was asked to gather along dimension 0, but all '\n",
      "The following columns in the evaluation set  don't have a corresponding argument in `RobertaForTokenClassification.forward` and have been ignored: tokens, tags. If tokens, tags are not expected by `RobertaForTokenClassification.forward`,  you can safely ignore this message.\n",
      "***** Running Evaluation *****\n",
      "  Num examples = 30000\n",
      "  Batch size = 128\n",
      "Saving model checkpoint to comma-distilroberta-base/checkpoint-1500\n",
      "Configuration saved in comma-distilroberta-base/checkpoint-1500/config.json\n",
      "Model weights saved in comma-distilroberta-base/checkpoint-1500/pytorch_model.bin\n",
      "tokenizer config file saved in comma-distilroberta-base/checkpoint-1500/tokenizer_config.json\n",
      "Special tokens file saved in comma-distilroberta-base/checkpoint-1500/special_tokens_map.json\n",
      "/opt/conda/lib/python3.8/site-packages/torch/nn/parallel/_functions.py:68: UserWarning: Was asked to gather along dimension 0, but all input tensors were scalars; will instead unsqueeze and return a vector.\n",
      "  warnings.warn('Was asked to gather along dimension 0, but all '\n",
      "The following columns in the evaluation set  don't have a corresponding argument in `RobertaForTokenClassification.forward` and have been ignored: tokens, tags. If tokens, tags are not expected by `RobertaForTokenClassification.forward`,  you can safely ignore this message.\n",
      "***** Running Evaluation *****\n",
      "  Num examples = 30000\n",
      "  Batch size = 128\n",
      "Saving model checkpoint to comma-distilroberta-base/checkpoint-2000\n",
      "Configuration saved in comma-distilroberta-base/checkpoint-2000/config.json\n",
      "Model weights saved in comma-distilroberta-base/checkpoint-2000/pytorch_model.bin\n",
      "tokenizer config file saved in comma-distilroberta-base/checkpoint-2000/tokenizer_config.json\n",
      "Special tokens file saved in comma-distilroberta-base/checkpoint-2000/special_tokens_map.json\n",
      "/opt/conda/lib/python3.8/site-packages/torch/nn/parallel/_functions.py:68: UserWarning: Was asked to gather along dimension 0, but all input tensors were scalars; will instead unsqueeze and return a vector.\n",
      "  warnings.warn('Was asked to gather along dimension 0, but all '\n",
      "The following columns in the evaluation set  don't have a corresponding argument in `RobertaForTokenClassification.forward` and have been ignored: tokens, tags. If tokens, tags are not expected by `RobertaForTokenClassification.forward`,  you can safely ignore this message.\n",
      "***** Running Evaluation *****\n",
      "  Num examples = 30000\n",
      "  Batch size = 128\n",
      "Saving model checkpoint to comma-distilroberta-base/checkpoint-2500\n",
      "Configuration saved in comma-distilroberta-base/checkpoint-2500/config.json\n",
      "Model weights saved in comma-distilroberta-base/checkpoint-2500/pytorch_model.bin\n",
      "tokenizer config file saved in comma-distilroberta-base/checkpoint-2500/tokenizer_config.json\n",
      "Special tokens file saved in comma-distilroberta-base/checkpoint-2500/special_tokens_map.json\n",
      "/opt/conda/lib/python3.8/site-packages/torch/nn/parallel/_functions.py:68: UserWarning: Was asked to gather along dimension 0, but all input tensors were scalars; will instead unsqueeze and return a vector.\n",
      "  warnings.warn('Was asked to gather along dimension 0, but all '\n",
      "The following columns in the evaluation set  don't have a corresponding argument in `RobertaForTokenClassification.forward` and have been ignored: tokens, tags. If tokens, tags are not expected by `RobertaForTokenClassification.forward`,  you can safely ignore this message.\n",
      "***** Running Evaluation *****\n",
      "  Num examples = 30000\n",
      "  Batch size = 128\n",
      "Saving model checkpoint to comma-distilroberta-base/checkpoint-3000\n",
      "Configuration saved in comma-distilroberta-base/checkpoint-3000/config.json\n",
      "Model weights saved in comma-distilroberta-base/checkpoint-3000/pytorch_model.bin\n",
      "tokenizer config file saved in comma-distilroberta-base/checkpoint-3000/tokenizer_config.json\n",
      "Special tokens file saved in comma-distilroberta-base/checkpoint-3000/special_tokens_map.json\n",
      "/opt/conda/lib/python3.8/site-packages/torch/nn/parallel/_functions.py:68: UserWarning: Was asked to gather along dimension 0, but all input tensors were scalars; will instead unsqueeze and return a vector.\n",
      "  warnings.warn('Was asked to gather along dimension 0, but all '\n",
      "The following columns in the evaluation set  don't have a corresponding argument in `RobertaForTokenClassification.forward` and have been ignored: tokens, tags. If tokens, tags are not expected by `RobertaForTokenClassification.forward`,  you can safely ignore this message.\n",
      "***** Running Evaluation *****\n",
      "  Num examples = 30000\n",
      "  Batch size = 128\n",
      "Saving model checkpoint to comma-distilroberta-base/checkpoint-3500\n",
      "Configuration saved in comma-distilroberta-base/checkpoint-3500/config.json\n",
      "Model weights saved in comma-distilroberta-base/checkpoint-3500/pytorch_model.bin\n",
      "tokenizer config file saved in comma-distilroberta-base/checkpoint-3500/tokenizer_config.json\n",
      "Special tokens file saved in comma-distilroberta-base/checkpoint-3500/special_tokens_map.json\n",
      "/opt/conda/lib/python3.8/site-packages/torch/nn/parallel/_functions.py:68: UserWarning: Was asked to gather along dimension 0, but all input tensors were scalars; will instead unsqueeze and return a vector.\n",
      "  warnings.warn('Was asked to gather along dimension 0, but all '\n",
      "The following columns in the evaluation set  don't have a corresponding argument in `RobertaForTokenClassification.forward` and have been ignored: tokens, tags. If tokens, tags are not expected by `RobertaForTokenClassification.forward`,  you can safely ignore this message.\n",
      "***** Running Evaluation *****\n",
      "  Num examples = 30000\n",
      "  Batch size = 128\n",
      "Saving model checkpoint to comma-distilroberta-base/checkpoint-4000\n",
      "Configuration saved in comma-distilroberta-base/checkpoint-4000/config.json\n",
      "Model weights saved in comma-distilroberta-base/checkpoint-4000/pytorch_model.bin\n",
      "tokenizer config file saved in comma-distilroberta-base/checkpoint-4000/tokenizer_config.json\n",
      "Special tokens file saved in comma-distilroberta-base/checkpoint-4000/special_tokens_map.json\n",
      "/opt/conda/lib/python3.8/site-packages/torch/nn/parallel/_functions.py:68: UserWarning: Was asked to gather along dimension 0, but all input tensors were scalars; will instead unsqueeze and return a vector.\n",
      "  warnings.warn('Was asked to gather along dimension 0, but all '\n",
      "The following columns in the evaluation set  don't have a corresponding argument in `RobertaForTokenClassification.forward` and have been ignored: tokens, tags. If tokens, tags are not expected by `RobertaForTokenClassification.forward`,  you can safely ignore this message.\n",
      "***** Running Evaluation *****\n",
      "  Num examples = 30000\n",
      "  Batch size = 128\n",
      "Saving model checkpoint to comma-distilroberta-base/checkpoint-4500\n",
      "Configuration saved in comma-distilroberta-base/checkpoint-4500/config.json\n",
      "Model weights saved in comma-distilroberta-base/checkpoint-4500/pytorch_model.bin\n",
      "tokenizer config file saved in comma-distilroberta-base/checkpoint-4500/tokenizer_config.json\n",
      "Special tokens file saved in comma-distilroberta-base/checkpoint-4500/special_tokens_map.json\n",
      "/opt/conda/lib/python3.8/site-packages/torch/nn/parallel/_functions.py:68: UserWarning: Was asked to gather along dimension 0, but all input tensors were scalars; will instead unsqueeze and return a vector.\n",
      "  warnings.warn('Was asked to gather along dimension 0, but all '\n",
      "The following columns in the evaluation set  don't have a corresponding argument in `RobertaForTokenClassification.forward` and have been ignored: tokens, tags. If tokens, tags are not expected by `RobertaForTokenClassification.forward`,  you can safely ignore this message.\n",
      "***** Running Evaluation *****\n",
      "  Num examples = 30000\n",
      "  Batch size = 128\n",
      "Saving model checkpoint to comma-distilroberta-base/checkpoint-5000\n",
      "Configuration saved in comma-distilroberta-base/checkpoint-5000/config.json\n",
      "Model weights saved in comma-distilroberta-base/checkpoint-5000/pytorch_model.bin\n",
      "tokenizer config file saved in comma-distilroberta-base/checkpoint-5000/tokenizer_config.json\n",
      "Special tokens file saved in comma-distilroberta-base/checkpoint-5000/special_tokens_map.json\n",
      "/opt/conda/lib/python3.8/site-packages/torch/nn/parallel/_functions.py:68: UserWarning: Was asked to gather along dimension 0, but all input tensors were scalars; will instead unsqueeze and return a vector.\n",
      "  warnings.warn('Was asked to gather along dimension 0, but all '\n",
      "The following columns in the evaluation set  don't have a corresponding argument in `RobertaForTokenClassification.forward` and have been ignored: tokens, tags. If tokens, tags are not expected by `RobertaForTokenClassification.forward`,  you can safely ignore this message.\n",
      "***** Running Evaluation *****\n",
      "  Num examples = 30000\n",
      "  Batch size = 128\n",
      "Saving model checkpoint to comma-distilroberta-base/checkpoint-5500\n",
      "Configuration saved in comma-distilroberta-base/checkpoint-5500/config.json\n",
      "Model weights saved in comma-distilroberta-base/checkpoint-5500/pytorch_model.bin\n",
      "tokenizer config file saved in comma-distilroberta-base/checkpoint-5500/tokenizer_config.json\n",
      "Special tokens file saved in comma-distilroberta-base/checkpoint-5500/special_tokens_map.json\n",
      "/opt/conda/lib/python3.8/site-packages/torch/nn/parallel/_functions.py:68: UserWarning: Was asked to gather along dimension 0, but all input tensors were scalars; will instead unsqueeze and return a vector.\n",
      "  warnings.warn('Was asked to gather along dimension 0, but all '\n",
      "The following columns in the evaluation set  don't have a corresponding argument in `RobertaForTokenClassification.forward` and have been ignored: tokens, tags. If tokens, tags are not expected by `RobertaForTokenClassification.forward`,  you can safely ignore this message.\n",
      "***** Running Evaluation *****\n",
      "  Num examples = 30000\n",
      "  Batch size = 128\n",
      "Saving model checkpoint to comma-distilroberta-base/checkpoint-6000\n",
      "Configuration saved in comma-distilroberta-base/checkpoint-6000/config.json\n",
      "Model weights saved in comma-distilroberta-base/checkpoint-6000/pytorch_model.bin\n",
      "tokenizer config file saved in comma-distilroberta-base/checkpoint-6000/tokenizer_config.json\n",
      "Special tokens file saved in comma-distilroberta-base/checkpoint-6000/special_tokens_map.json\n",
      "/opt/conda/lib/python3.8/site-packages/torch/nn/parallel/_functions.py:68: UserWarning: Was asked to gather along dimension 0, but all input tensors were scalars; will instead unsqueeze and return a vector.\n",
      "  warnings.warn('Was asked to gather along dimension 0, but all '\n",
      "The following columns in the evaluation set  don't have a corresponding argument in `RobertaForTokenClassification.forward` and have been ignored: tokens, tags. If tokens, tags are not expected by `RobertaForTokenClassification.forward`,  you can safely ignore this message.\n",
      "***** Running Evaluation *****\n",
      "  Num examples = 30000\n",
      "  Batch size = 128\n",
      "Saving model checkpoint to comma-distilroberta-base/checkpoint-6500\n",
      "Configuration saved in comma-distilroberta-base/checkpoint-6500/config.json\n",
      "Model weights saved in comma-distilroberta-base/checkpoint-6500/pytorch_model.bin\n",
      "tokenizer config file saved in comma-distilroberta-base/checkpoint-6500/tokenizer_config.json\n",
      "Special tokens file saved in comma-distilroberta-base/checkpoint-6500/special_tokens_map.json\n",
      "/opt/conda/lib/python3.8/site-packages/torch/nn/parallel/_functions.py:68: UserWarning: Was asked to gather along dimension 0, but all input tensors were scalars; will instead unsqueeze and return a vector.\n",
      "  warnings.warn('Was asked to gather along dimension 0, but all '\n",
      "The following columns in the evaluation set  don't have a corresponding argument in `RobertaForTokenClassification.forward` and have been ignored: tokens, tags. If tokens, tags are not expected by `RobertaForTokenClassification.forward`,  you can safely ignore this message.\n",
      "***** Running Evaluation *****\n",
      "  Num examples = 30000\n",
      "  Batch size = 128\n",
      "Saving model checkpoint to comma-distilroberta-base/checkpoint-7000\n",
      "Configuration saved in comma-distilroberta-base/checkpoint-7000/config.json\n",
      "Model weights saved in comma-distilroberta-base/checkpoint-7000/pytorch_model.bin\n",
      "tokenizer config file saved in comma-distilroberta-base/checkpoint-7000/tokenizer_config.json\n",
      "Special tokens file saved in comma-distilroberta-base/checkpoint-7000/special_tokens_map.json\n",
      "/opt/conda/lib/python3.8/site-packages/torch/nn/parallel/_functions.py:68: UserWarning: Was asked to gather along dimension 0, but all input tensors were scalars; will instead unsqueeze and return a vector.\n",
      "  warnings.warn('Was asked to gather along dimension 0, but all '\n",
      "The following columns in the evaluation set  don't have a corresponding argument in `RobertaForTokenClassification.forward` and have been ignored: tokens, tags. If tokens, tags are not expected by `RobertaForTokenClassification.forward`,  you can safely ignore this message.\n",
      "***** Running Evaluation *****\n",
      "  Num examples = 30000\n",
      "  Batch size = 128\n",
      "Saving model checkpoint to comma-distilroberta-base/checkpoint-7500\n",
      "Configuration saved in comma-distilroberta-base/checkpoint-7500/config.json\n",
      "Model weights saved in comma-distilroberta-base/checkpoint-7500/pytorch_model.bin\n",
      "tokenizer config file saved in comma-distilroberta-base/checkpoint-7500/tokenizer_config.json\n",
      "Special tokens file saved in comma-distilroberta-base/checkpoint-7500/special_tokens_map.json\n",
      "/opt/conda/lib/python3.8/site-packages/torch/nn/parallel/_functions.py:68: UserWarning: Was asked to gather along dimension 0, but all input tensors were scalars; will instead unsqueeze and return a vector.\n",
      "  warnings.warn('Was asked to gather along dimension 0, but all '\n",
      "The following columns in the evaluation set  don't have a corresponding argument in `RobertaForTokenClassification.forward` and have been ignored: tokens, tags. If tokens, tags are not expected by `RobertaForTokenClassification.forward`,  you can safely ignore this message.\n",
      "***** Running Evaluation *****\n",
      "  Num examples = 30000\n",
      "  Batch size = 128\n",
      "Saving model checkpoint to comma-distilroberta-base/checkpoint-8000\n",
      "Configuration saved in comma-distilroberta-base/checkpoint-8000/config.json\n",
      "Model weights saved in comma-distilroberta-base/checkpoint-8000/pytorch_model.bin\n",
      "tokenizer config file saved in comma-distilroberta-base/checkpoint-8000/tokenizer_config.json\n",
      "Special tokens file saved in comma-distilroberta-base/checkpoint-8000/special_tokens_map.json\n",
      "/opt/conda/lib/python3.8/site-packages/torch/nn/parallel/_functions.py:68: UserWarning: Was asked to gather along dimension 0, but all input tensors were scalars; will instead unsqueeze and return a vector.\n",
      "  warnings.warn('Was asked to gather along dimension 0, but all '\n",
      "The following columns in the evaluation set  don't have a corresponding argument in `RobertaForTokenClassification.forward` and have been ignored: tokens, tags. If tokens, tags are not expected by `RobertaForTokenClassification.forward`,  you can safely ignore this message.\n",
      "***** Running Evaluation *****\n",
      "  Num examples = 30000\n",
      "  Batch size = 128\n",
      "Saving model checkpoint to comma-distilroberta-base/checkpoint-8500\n",
      "Configuration saved in comma-distilroberta-base/checkpoint-8500/config.json\n",
      "Model weights saved in comma-distilroberta-base/checkpoint-8500/pytorch_model.bin\n",
      "tokenizer config file saved in comma-distilroberta-base/checkpoint-8500/tokenizer_config.json\n",
      "Special tokens file saved in comma-distilroberta-base/checkpoint-8500/special_tokens_map.json\n",
      "/opt/conda/lib/python3.8/site-packages/torch/nn/parallel/_functions.py:68: UserWarning: Was asked to gather along dimension 0, but all input tensors were scalars; will instead unsqueeze and return a vector.\n",
      "  warnings.warn('Was asked to gather along dimension 0, but all '\n",
      "The following columns in the evaluation set  don't have a corresponding argument in `RobertaForTokenClassification.forward` and have been ignored: tokens, tags. If tokens, tags are not expected by `RobertaForTokenClassification.forward`,  you can safely ignore this message.\n",
      "***** Running Evaluation *****\n",
      "  Num examples = 30000\n",
      "  Batch size = 128\n",
      "Saving model checkpoint to comma-distilroberta-base/checkpoint-9000\n",
      "Configuration saved in comma-distilroberta-base/checkpoint-9000/config.json\n",
      "Model weights saved in comma-distilroberta-base/checkpoint-9000/pytorch_model.bin\n",
      "tokenizer config file saved in comma-distilroberta-base/checkpoint-9000/tokenizer_config.json\n",
      "Special tokens file saved in comma-distilroberta-base/checkpoint-9000/special_tokens_map.json\n",
      "/opt/conda/lib/python3.8/site-packages/torch/nn/parallel/_functions.py:68: UserWarning: Was asked to gather along dimension 0, but all input tensors were scalars; will instead unsqueeze and return a vector.\n",
      "  warnings.warn('Was asked to gather along dimension 0, but all '\n",
      "The following columns in the evaluation set  don't have a corresponding argument in `RobertaForTokenClassification.forward` and have been ignored: tokens, tags. If tokens, tags are not expected by `RobertaForTokenClassification.forward`,  you can safely ignore this message.\n",
      "***** Running Evaluation *****\n",
      "  Num examples = 30000\n",
      "  Batch size = 128\n",
      "Saving model checkpoint to comma-distilroberta-base/checkpoint-9500\n",
      "Configuration saved in comma-distilroberta-base/checkpoint-9500/config.json\n",
      "Model weights saved in comma-distilroberta-base/checkpoint-9500/pytorch_model.bin\n",
      "tokenizer config file saved in comma-distilroberta-base/checkpoint-9500/tokenizer_config.json\n",
      "Special tokens file saved in comma-distilroberta-base/checkpoint-9500/special_tokens_map.json\n",
      "/opt/conda/lib/python3.8/site-packages/torch/nn/parallel/_functions.py:68: UserWarning: Was asked to gather along dimension 0, but all input tensors were scalars; will instead unsqueeze and return a vector.\n",
      "  warnings.warn('Was asked to gather along dimension 0, but all '\n",
      "The following columns in the evaluation set  don't have a corresponding argument in `RobertaForTokenClassification.forward` and have been ignored: tokens, tags. If tokens, tags are not expected by `RobertaForTokenClassification.forward`,  you can safely ignore this message.\n",
      "***** Running Evaluation *****\n",
      "  Num examples = 30000\n",
      "  Batch size = 128\n",
      "Saving model checkpoint to comma-distilroberta-base/checkpoint-10000\n",
      "Configuration saved in comma-distilroberta-base/checkpoint-10000/config.json\n",
      "Model weights saved in comma-distilroberta-base/checkpoint-10000/pytorch_model.bin\n",
      "tokenizer config file saved in comma-distilroberta-base/checkpoint-10000/tokenizer_config.json\n",
      "Special tokens file saved in comma-distilroberta-base/checkpoint-10000/special_tokens_map.json\n",
      "/opt/conda/lib/python3.8/site-packages/torch/nn/parallel/_functions.py:68: UserWarning: Was asked to gather along dimension 0, but all input tensors were scalars; will instead unsqueeze and return a vector.\n",
      "  warnings.warn('Was asked to gather along dimension 0, but all '\n",
      "The following columns in the evaluation set  don't have a corresponding argument in `RobertaForTokenClassification.forward` and have been ignored: tokens, tags. If tokens, tags are not expected by `RobertaForTokenClassification.forward`,  you can safely ignore this message.\n",
      "***** Running Evaluation *****\n",
      "  Num examples = 30000\n",
      "  Batch size = 128\n",
      "Saving model checkpoint to comma-distilroberta-base/checkpoint-10500\n",
      "Configuration saved in comma-distilroberta-base/checkpoint-10500/config.json\n",
      "Model weights saved in comma-distilroberta-base/checkpoint-10500/pytorch_model.bin\n",
      "tokenizer config file saved in comma-distilroberta-base/checkpoint-10500/tokenizer_config.json\n",
      "Special tokens file saved in comma-distilroberta-base/checkpoint-10500/special_tokens_map.json\n",
      "/opt/conda/lib/python3.8/site-packages/torch/nn/parallel/_functions.py:68: UserWarning: Was asked to gather along dimension 0, but all input tensors were scalars; will instead unsqueeze and return a vector.\n",
      "  warnings.warn('Was asked to gather along dimension 0, but all '\n",
      "The following columns in the evaluation set  don't have a corresponding argument in `RobertaForTokenClassification.forward` and have been ignored: tokens, tags. If tokens, tags are not expected by `RobertaForTokenClassification.forward`,  you can safely ignore this message.\n",
      "***** Running Evaluation *****\n",
      "  Num examples = 30000\n",
      "  Batch size = 128\n",
      "Saving model checkpoint to comma-distilroberta-base/checkpoint-11000\n",
      "Configuration saved in comma-distilroberta-base/checkpoint-11000/config.json\n",
      "Model weights saved in comma-distilroberta-base/checkpoint-11000/pytorch_model.bin\n",
      "tokenizer config file saved in comma-distilroberta-base/checkpoint-11000/tokenizer_config.json\n",
      "Special tokens file saved in comma-distilroberta-base/checkpoint-11000/special_tokens_map.json\n",
      "/opt/conda/lib/python3.8/site-packages/torch/nn/parallel/_functions.py:68: UserWarning: Was asked to gather along dimension 0, but all input tensors were scalars; will instead unsqueeze and return a vector.\n",
      "  warnings.warn('Was asked to gather along dimension 0, but all '\n",
      "The following columns in the evaluation set  don't have a corresponding argument in `RobertaForTokenClassification.forward` and have been ignored: tokens, tags. If tokens, tags are not expected by `RobertaForTokenClassification.forward`,  you can safely ignore this message.\n",
      "***** Running Evaluation *****\n",
      "  Num examples = 30000\n",
      "  Batch size = 128\n",
      "Saving model checkpoint to comma-distilroberta-base/checkpoint-11500\n",
      "Configuration saved in comma-distilroberta-base/checkpoint-11500/config.json\n",
      "Model weights saved in comma-distilroberta-base/checkpoint-11500/pytorch_model.bin\n",
      "tokenizer config file saved in comma-distilroberta-base/checkpoint-11500/tokenizer_config.json\n",
      "Special tokens file saved in comma-distilroberta-base/checkpoint-11500/special_tokens_map.json\n",
      "/opt/conda/lib/python3.8/site-packages/torch/nn/parallel/_functions.py:68: UserWarning: Was asked to gather along dimension 0, but all input tensors were scalars; will instead unsqueeze and return a vector.\n",
      "  warnings.warn('Was asked to gather along dimension 0, but all '\n",
      "\n",
      "\n",
      "Training completed. Do not forget to share your model on huggingface.co/models =)\n",
      "\n",
      "\n"
     ]
    },
    {
     "data": {
      "text/plain": [
       "TrainOutput(global_step=11994, training_loss=0.0636678817810089, metrics={'train_runtime': 3937.2286, 'train_samples_per_second': 1559.68, 'train_steps_per_second': 3.046, 'total_flos': 2.609474674804059e+17, 'train_loss': 0.0636678817810089, 'epoch': 3.0})"
      ]
     },
     "execution_count": 20,
     "metadata": {},
     "output_type": "execute_result"
    }
   ],
   "source": [
    "trainer.train()"
   ]
  },
  {
   "cell_type": "code",
   "execution_count": 21,
   "id": "75d74f8f",
   "metadata": {},
   "outputs": [
    {
     "name": "stderr",
     "output_type": "stream",
     "text": [
      "The following columns in the evaluation set  don't have a corresponding argument in `RobertaForTokenClassification.forward` and have been ignored: tokens, tags. If tokens, tags are not expected by `RobertaForTokenClassification.forward`,  you can safely ignore this message.\n",
      "***** Running Evaluation *****\n",
      "  Num examples = 30000\n",
      "  Batch size = 128\n"
     ]
    },
    {
     "data": {
      "text/html": [
       "\n",
       "    <div>\n",
       "      \n",
       "      <progress value='59' max='59' style='width:300px; height:20px; vertical-align: middle;'></progress>\n",
       "      [59/59 00:10]\n",
       "    </div>\n",
       "    "
      ],
      "text/plain": [
       "<IPython.core.display.HTML object>"
      ]
     },
     "metadata": {},
     "output_type": "display_data"
    },
    {
     "data": {
      "text/plain": [
       "{'eval_loss': 0.041354574263095856,\n",
       " 'eval_precision': 0.846249942164438,\n",
       " 'eval_recall': 0.8208235162122742,\n",
       " 'eval_f1': 0.8333428255743754,\n",
       " 'eval_accuracy': 0.978227516573784,\n",
       " 'eval_runtime': 27.9188,\n",
       " 'eval_samples_per_second': 1074.543,\n",
       " 'eval_steps_per_second': 2.113,\n",
       " 'epoch': 3.0}"
      ]
     },
     "execution_count": 21,
     "metadata": {},
     "output_type": "execute_result"
    }
   ],
   "source": [
    "trainer.evaluate()"
   ]
  },
  {
   "cell_type": "code",
   "execution_count": 22,
   "id": "4c09dd92",
   "metadata": {},
   "outputs": [
    {
     "name": "stderr",
     "output_type": "stream",
     "text": [
      "Saving model checkpoint to comma-distilroberta-base-3domains\n",
      "Configuration saved in comma-distilroberta-base-3domains/config.json\n",
      "Model weights saved in comma-distilroberta-base-3domains/pytorch_model.bin\n",
      "tokenizer config file saved in comma-distilroberta-base-3domains/tokenizer_config.json\n",
      "Special tokens file saved in comma-distilroberta-base-3domains/special_tokens_map.json\n"
     ]
    }
   ],
   "source": [
    "trainer.save_model(\"comma-\" + model_checkpoint + \"-3domains\")"
   ]
  }
 ],
 "metadata": {
  "kernelspec": {
   "display_name": "Python 3 (ipykernel)",
   "language": "python",
   "name": "python3"
  },
  "language_info": {
   "codemirror_mode": {
    "name": "ipython",
    "version": 3
   },
   "file_extension": ".py",
   "mimetype": "text/x-python",
   "name": "python",
   "nbconvert_exporter": "python",
   "pygments_lexer": "ipython3",
   "version": "3.8.12"
  }
 },
 "nbformat": 4,
 "nbformat_minor": 5
}
